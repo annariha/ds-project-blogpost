{
 "cells": [
  {
   "cell_type": "code",
   "execution_count": null,
   "metadata": {},
   "outputs": [],
   "source": [
    "'''\n",
    "Ideas for Blogpost:\n",
    "- Covid-19\n",
    "- Survival Analysis\n",
    "- Time Series with StackOverflow Data\n",
    "\n",
    "How do recommendations change over time? \n",
    "How does income change over time?\n",
    "Are there trends visible over the 5-year period?\n",
    "\n",
    "Survival Analysis Blogposts: \n",
    "https://towardsdatascience.com/survival-analysis-intuition-implementation-in-python-504fde4fcf8e\n",
    "https://pub.towardsai.net/survival-analysis-with-python-tutorial-how-what-when-and-why-19a5cfb3c312?sk=65c086e2b02ac43b2d577e02141fd56a&source=friends_link&gi=65238e0712d\n",
    "https://www.kdnuggets.com/2020/07/complete-guide-survival-analysis-python-part1.html\n",
    "'''\n",
    "\n",
    "# setup\n",
    "import pandas as pd\n",
    "import numpy as np\n",
    "import matplotlib.pyplot as plt\n",
    "import os\n",
    "import glob\n",
    "from helper_functions import row_to_header\n",
    "%matplotlib inline\n"
   ]
  },
  {
   "source": [
    "# Blogpost: Analysing StackOverflow Data\n",
    "\n",
    "StackOverflow:  \n",
    "- community of software developers, coders, companies \n",
    "- public platform for coding questions and answers & other products\n",
    "- self-reportedly one of the 50 most popular websites in the world \n",
    "- different products: StackOverflow, StackOverflow for Teams, Stack Overflow Advertising, Stack Overflow Talent\n",
    "- supports companies when looking for new employees\n",
    "\n",
    "https://stackoverflow.com/company\n",
    "\n",
    "Data is available at: https://insights.stackoverflow.com/survey/\n",
    "\n",
    "gather information on \"all aspects of the developer experience\"\n",
    "\n",
    "In the course, the questions were:\n",
    "- How to enter the field?\n",
    "- What are job placement and salary rates for bootcamps?\n",
    "- What relates to salary/job satisfaction?\n",
    "\n",
    "Now, additionally look at StackOverflow Survey Data from 2015 to 2019\n",
    "\n",
    "Suggestions: What languages were most popular in each year? What other changes can you observe over time?\n",
    "\n",
    "Questions:\n",
    "\n",
    "0. Why does StackOverflow collect the data? Which questions are included every year? \n",
    "- get to know users (e.g. educational and programming background, demographics etc.)\n",
    "- get info to improve career services, other StackOverflow products for recruiters\n",
    "\n",
    "specifically: \n",
    "- what is connected with higher job satisfaction or better payment? \n",
    "- role of remote work\n",
    "\n",
    "Why is this interesting for recruiters?\n",
    "\n",
    "1. \n",
    "2. \n",
    "3. "
   ],
   "cell_type": "markdown",
   "metadata": {}
  },
  {
   "source": [
    "## Load & Prepare Data"
   ],
   "cell_type": "markdown",
   "metadata": {}
  },
  {
   "cell_type": "code",
   "execution_count": null,
   "metadata": {},
   "outputs": [],
   "source": [
    "# import data for year 2015\n",
    "df_raw_2015 = pd.read_csv('data/survey_results_public_2015.csv', low_memory=False, header=None)\n",
    "# inspect df \n",
    "df_raw_2015.head(3)\n",
    "# needs cleaning, header is first row"
   ]
  },
  {
   "cell_type": "code",
   "execution_count": null,
   "metadata": {},
   "outputs": [],
   "source": [
    "# clean data\n",
    "# drop first row by selecting all rows from first row onwards\n",
    "df_2015 = df_raw_2015.iloc[1: , :]\n",
    "df_2015.head(2)"
   ]
  },
  {
   "cell_type": "code",
   "execution_count": null,
   "metadata": {},
   "outputs": [],
   "source": [
    "# use helper function\n",
    "new_df_2015 = row_to_header(df_2015, 0)\n",
    "# check df \n",
    "new_df_2015.head(2)"
   ]
  },
  {
   "cell_type": "code",
   "execution_count": null,
   "metadata": {},
   "outputs": [],
   "source": [
    "# import data for year 2016\n",
    "df_raw_2016 = pd.read_csv('data/survey_results_public_2016.csv', low_memory=False)\n",
    "# inspect df \n",
    "df_raw_2016.head(2)\n"
   ]
  },
  {
   "cell_type": "code",
   "execution_count": null,
   "metadata": {},
   "outputs": [],
   "source": [
    "# import data for year 2017\n",
    "df_raw_2017 = pd.read_csv('data/survey_results_public_2017.csv', low_memory=False)\n",
    "# inspect df \n",
    "df_raw_2017.head(2)"
   ]
  },
  {
   "cell_type": "code",
   "execution_count": null,
   "metadata": {},
   "outputs": [],
   "source": [
    "# import data for year 2018\n",
    "df_raw_2018 = pd.read_csv('data/survey_results_public_2018.csv', low_memory=False)\n",
    "# inspect df \n",
    "df_raw_2018.head(2)"
   ]
  },
  {
   "cell_type": "code",
   "execution_count": null,
   "metadata": {},
   "outputs": [],
   "source": [
    "# import data for year 2019\n",
    "df_raw_2019 = pd.read_csv('data/survey_results_public_2019.csv', low_memory=False)\n",
    "# inspect df \n",
    "df_raw_2019.head(2)"
   ]
  },
  {
   "cell_type": "code",
   "execution_count": null,
   "metadata": {},
   "outputs": [],
   "source": [
    "# check data types in dfs \n",
    "df_raw_2016.dtypes\n",
    "df_raw_2016.info()\n",
    "# filter for numeric vars\n",
    "df_numerics_only = df_raw_2016.select_dtypes(include=np.number)\n",
    "df_numerics_only \n",
    "# filter for categorical vars\n"
   ]
  },
  {
   "source": [
    "### Which variables appear in all years? \n",
    "\n",
    "- demographics: age, gender, country\n",
    "- education: \n",
    "- occupation: \n",
    "- job satisfaction"
   ],
   "cell_type": "markdown",
   "metadata": {}
  },
  {
   "cell_type": "code",
   "execution_count": null,
   "metadata": {},
   "outputs": [],
   "source": [
    "new_df_2015.columns.values.tolist()\n",
    "\n",
    "# ['Country', 'Age', 'Gender',  'Occupation', 'Compensation', 'Compensation: midpoint', 'Employment Status', 'Job Satisfaction',  \n",
    "# 'Years IT / Programming Experience',\"How often are Stack Overflow's answers helpful\",\n"
   ]
  },
  {
   "cell_type": "code",
   "execution_count": null,
   "metadata": {},
   "outputs": [],
   "source": [
    "df_raw_2016.columns.values.tolist()\n",
    "\n",
    "#  'country', 'gender', 'education', 'occupation', 'employment_status', 'salary_range', 'salary_midpoint', 'job_satisfaction', 'why_stack_overflow'"
   ]
  },
  {
   "cell_type": "code",
   "execution_count": null,
   "metadata": {},
   "outputs": [],
   "source": [
    "df_raw_2017.columns.values.tolist()\n",
    "\n",
    "# ['Gender', 'Country', 'FormalEducation', 'Professional', 'Salary', 'JobSatisfaction',"
   ]
  },
  {
   "cell_type": "code",
   "execution_count": null,
   "metadata": {},
   "outputs": [],
   "source": [
    "df_raw_2018.columns.values.tolist()\n",
    "\n",
    "# 'Age', 'Gender','Country', 'Employment', 'Salary', 'FormalEducation', 'JobSatisfaction',"
   ]
  },
  {
   "cell_type": "code",
   "execution_count": null,
   "metadata": {},
   "outputs": [],
   "source": [
    "df_raw_2019.columns.values.tolist()\n",
    "\n",
    "# 'Country', 'Age', 'Gender', 'Employment', 'EdLevel', 'JobSat',"
   ]
  },
  {
   "source": [
    "check for missing values"
   ],
   "cell_type": "markdown",
   "metadata": {}
  },
  {
   "cell_type": "code",
   "execution_count": null,
   "metadata": {},
   "outputs": [],
   "source": [
    "# useful?\n",
    "num_rows = df.shape[0] #number of rows in the dataset\n",
    "num_cols = df.shape[1] #number of columns in the dataset\n",
    "\n",
    "no_nulls = set(df.columns[~df.isnull().any()])  #Provide a set of columns with 0 missing values.\n",
    "most_missing_cols = df.columns[df.isnull().sum()/len(df) > .75].tolist() #Provide a set of columns with more than 75% of the values missing\n",
    "most_missing_cols\n",
    "\n",
    "# drop rows but only when all values are missing\n",
    "all_row = df.dropna(axis=0, how='all') "
   ]
  },
  {
   "source": [
    "check if columns have correct data type"
   ],
   "cell_type": "markdown",
   "metadata": {}
  },
  {
   "source": [
    "explore data with bar charts, histograms and scatterplots"
   ],
   "cell_type": "markdown",
   "metadata": {}
  },
  {
   "cell_type": "code",
   "execution_count": null,
   "metadata": {},
   "outputs": [],
   "source": [
    "# Histograms\n",
    "status_vals = df['Professional'].value_counts() #pandas series of the counts for each Professional status\n",
    "# bar chart of the proportion of individuals in each professional category\n",
    "(status_vals/df.shape[0]).plot(kind=\"bar\");\n",
    "plt.title(\"What kind of developer are you?\");"
   ]
  },
  {
   "cell_type": "code",
   "execution_count": null,
   "metadata": {},
   "outputs": [],
   "source": []
  },
  {
   "cell_type": "code",
   "execution_count": null,
   "metadata": {},
   "outputs": [],
   "source": [
    "# Which variables are of interest? \n",
    "# get list of all columns \n",
    "new_df_2015.columns.values.tolist()\n",
    "# ['Country', 'Age', 'Gender', 'Years IT / Programming Experience', 'Occupation', 'Desktop Operating System', \n",
    "# 'Employment Status', 'Industry', 'Job Satisfaction', 'Purchasing Power', 'Remote Status', 'Changed Jobs in last 12 Months',\n",
    "# 'Open to new job opportunities',  \n",
    "# 'Why use Stack Overflow: Help for job', 'Why use Stack Overflow: To give help',\n",
    "# \"Why use Stack Overflow: Can't do job without it\", 'Why use Stack Overflow: Maintain online presence',\n",
    "# 'Why use Stack Overflow: Demonstrate expertise', 'Why use Stack Overflow: Communicate with others',\n",
    "# 'Why use Stack Overflow: Receive help on personal projects','Why use Stack Overflow: Love to learn',\n",
    "# \"Why use Stack Overflow: I don't use Stack Overflow\", \n",
    "# \"How often are Stack Overflow's answers helpful\",\n",
    "# 'Why answer: Help a programmer in need', 'Why answer: Help future programmers', \n",
    "# 'Why answer: Demonstrate expertise', 'Why answer: Self promotion',\n",
    "# 'Why answer: Sense of responsibility to developers', 'Why answer: No idea',\n",
    "# \"Why answer: I don't answer and I don't want to\", \"Why answer: I don't answer but I want to\"]\n"
   ]
  },
  {
   "source": [
    "Questions: \n",
    "\n",
    "descriptive: Why do people use SO & why do they answer (or not)?\n",
    "descriptive: \n",
    "\n",
    "1. Do people with more work experience in IT find StackOverflow less or more helpful than people with less work experience in IT? \n",
    "2. "
   ],
   "cell_type": "markdown",
   "metadata": {}
  },
  {
   "cell_type": "code",
   "execution_count": null,
   "metadata": {},
   "outputs": [],
   "source": [
    "# tidy data\n",
    "\n",
    "# transform data "
   ]
  },
  {
   "cell_type": "code",
   "execution_count": null,
   "metadata": {},
   "outputs": [],
   "source": [
    "# visualise data"
   ]
  },
  {
   "cell_type": "code",
   "execution_count": null,
   "metadata": {},
   "outputs": [],
   "source": [
    "#Subset to only quantitative vars\n",
    "num_vars = df[['Salary', 'CareerSatisfaction', 'HoursPerWeek', 'JobSatisfaction', 'StackOverflowSatisfaction']]"
   ]
  },
  {
   "cell_type": "code",
   "execution_count": null,
   "metadata": {},
   "outputs": [],
   "source": [
    "prop_sals = len(num_vars.dropna(subset=['Salary'])) / len(num_vars) # Proportion of individuals in the dataset with salary reported\n",
    "prop_sals"
   ]
  },
  {
   "cell_type": "code",
   "execution_count": null,
   "metadata": {},
   "outputs": [],
   "source": [
    "X = sal_rm[['CareerSatisfaction', 'HoursPerWeek', 'JobSatisfaction', 'StackOverflowSatisfaction']] #Create X using explanatory variables from sal_rm\n",
    "y = sal_rm['Salary'] #Create y using the response variable of Salary\n",
    "\n",
    "# Split data into training and test data, and fit a linear model\n",
    "X_train, X_test, y_train, y_test = train_test_split(X, y , test_size=.30, random_state=42)\n",
    "lm_model = LinearRegression(normalize=True)\n",
    "\n",
    "# If our model works, it should just fit our model to the data. Otherwise, it will let us know.\n",
    "try:\n",
    "    lm_model.fit(X_train, y_train)\n",
    "except:\n",
    "    print(\"Oh no! It doesn't work!!!\")"
   ]
  },
  {
   "cell_type": "code",
   "execution_count": null,
   "metadata": {},
   "outputs": [],
   "source": [
    "# Remove the rows associated with nan values in any column from num_vars (this was the removal process used in the screencast). Store the dataframe with these rows removed in all_rem.\n",
    "all_rm = num_vars.dropna() # dataframe with rows for nan in any column removed"
   ]
  },
  {
   "cell_type": "code",
   "execution_count": null,
   "metadata": {},
   "outputs": [],
   "source": [
    "# visualising\n",
    "df_flights.boxplot('dep_time','origin',rot = 30,figsize=(5,6))"
   ]
  },
  {
   "source": [
    "## Modeling"
   ],
   "cell_type": "markdown",
   "metadata": {}
  },
  {
   "cell_type": "code",
   "execution_count": null,
   "metadata": {},
   "outputs": [],
   "source": []
  },
  {
   "cell_type": "code",
   "execution_count": null,
   "metadata": {},
   "outputs": [],
   "source": [
    "# model\n",
    "\n",
    "# communicate "
   ]
  }
 ],
 "metadata": {
  "kernelspec": {
   "name": "python392jvsc74a57bd0aee8b7b246df8f9039afb4144a1f6fd8d2ca17a180786b69acc140d282b71a49",
   "display_name": "Python 3.9.2 64-bit"
  },
  "language_info": {
   "codemirror_mode": {
    "name": "ipython",
    "version": 3
   },
   "file_extension": ".py",
   "mimetype": "text/x-python",
   "name": "python",
   "nbconvert_exporter": "python",
   "pygments_lexer": "ipython3",
   "version": "3.9.2"
  },
  "metadata": {
   "interpreter": {
    "hash": "aee8b7b246df8f9039afb4144a1f6fd8d2ca17a180786b69acc140d282b71a49"
   }
  }
 },
 "nbformat": 4,
 "nbformat_minor": 2
}